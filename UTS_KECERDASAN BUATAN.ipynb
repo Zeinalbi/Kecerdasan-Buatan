{
 "cells": [
  {
   "cell_type": "markdown",
   "metadata": {
    "id": "QiGcp6j9_QSz"
   },
   "source": [
    "## Soal UTS"
   ]
  },
  {
   "cell_type": "code",
   "execution_count": 14,
   "metadata": {
    "id": "RWdhQPRt8yrd"
   },
   "outputs": [],
   "source": [
    "\n",
    "# Data\n",
    "\n",
    "company_detail_list = [\n",
    "      {\n",
    "          'name': 'Company 1',\n",
    "          'domain': 'Retail',\n",
    "          'country': 'United States'\n",
    "      },\n",
    "      {\n",
    "          'name': 'Company 2',\n",
    "          'domain': 'Technology',\n",
    "          'country': 'United Kingdom'\n",
    "      },\n",
    "      {\n",
    "          'name': 'Company 3',\n",
    "          'domain': 'Healthcare',\n",
    "          'country': 'United States'\n",
    "      }\n",
    "  ]\n",
    "\n",
    "employee_detail_list = [\n",
    "     {\n",
    "          'name': 'EMP-0001',\n",
    "          'first_name': 'John',\n",
    "          'last_name': 'Doe',\n",
    "          'full_name': 'John Doe',\n",
    "          'company': 'Company 1',\n",
    "          'nationality': 'Australia'\n",
    "      },\n",
    "      {\n",
    "          'name': 'EMP-0002',\n",
    "          'first_name': 'Tom',\n",
    "          'last_name': 'Smith',\n",
    "          'full_name': 'Tom Smith',\n",
    "          'company': 'Company 2',\n",
    "          'nationality': 'United States'\n",
    "      },\n",
    "      {\n",
    "          'name': 'EMP-0003',\n",
    "          'first_name': 'Andrew',\n",
    "          'last_name': 'Sebastian',\n",
    "          'full_name': 'Andrew Sebastian',\n",
    "          'company': 'Company 3',\n",
    "          'nationality': 'United States'\n",
    "      },\n",
    "      {\n",
    "          'name': 'EMP-0005',\n",
    "          'first_name': 'Ying Han',\n",
    "          'last_name': 'Tan',\n",
    "          'full_name': 'Ying Han Tan',\n",
    "          'company': 'Company 1',\n",
    "          'nationality': 'Australia'\n",
    "      },\n",
    "      {\n",
    "          'name': 'EMP-0015',\n",
    "          'first_name': 'Kenneth',\n",
    "          'last_name': 'Ng',\n",
    "          'full_name': 'Kenneth Ng',\n",
    "          'company': 'Company 3',\n",
    "          'nationality': 'United States'\n",
    "      },\n",
    "      {\n",
    "          'name': 'EMP-0018',\n",
    "          'first_name': 'Rubby',\n",
    "          'last_name': 'Lee',\n",
    "          'full_name': 'Rubby Lee',\n",
    "          'company': 'Company 2',\n",
    "          'nationality': 'Hong Kong'\n",
    "      },\n",
    "     {\n",
    "          'name': 'EMP-0017',\n",
    "          'first_name': 'Robert',\n",
    "          'last_name': 'White',\n",
    "          'full_name': 'Robert White',\n",
    "          'company': 'Company 1',\n",
    "          'nationality': 'United Kingdom'\n",
    "      }\n",
    "  ]\n",
    "\n"
   ]
  },
  {
   "cell_type": "markdown",
   "metadata": {
    "id": "097eOYQ-U5V2"
   },
   "source": [
    "## Task 1\n",
    "\n",
    "Please get the list of all Companies and sort by **Company Name** in reverse order.\n",
    "\n",
    "Expected result:\n",
    "\n",
    "\n",
    "```json\n",
    "[{\n",
    "    \"name\": \"Company 3\"\n",
    "}, {\n",
    "    \"name\": \"Company 2\"\n",
    "}, {\n",
    "    \"name\": \"Company 1\"\n",
    "}]\n",
    "```\n",
    "\n"
   ]
  },
  {
   "cell_type": "markdown",
   "metadata": {},
   "source": [
    "<h1>JAWABAN</h1>"
   ]
  },
  {
   "cell_type": "code",
   "execution_count": 15,
   "metadata": {},
   "outputs": [
    {
     "name": "stdout",
     "output_type": "stream",
     "text": [
      "[{'name': 'Company 3'}, {'name': 'Company 2'}, {'name': 'Company 1'}]\n"
     ]
    }
   ],
   "source": [
    "company_names = [company['name'] for company in company_detail_list]\n",
    "sorted_company_names = sorted(company_names, reverse=True)\n",
    "result = [{'name': name} for name in sorted_company_names]\n",
    "print(result)\n"
   ]
  },
  {
   "cell_type": "markdown",
   "metadata": {
    "id": "sFbEZt5JoxMJ"
   },
   "source": [
    "## Soal 2\n",
    "\n",
    "Please print all Domain value in every company (use print statement).\n",
    "\n",
    "Expected return:\n",
    "\n",
    "```\n",
    "    Company 1: Retail (United States)\n",
    "    Company 2: Technology (United Kingdom)\n",
    "    Company 3: Healthcare (United States)\n",
    "```\n",
    "\n",
    "\n"
   ]
  },
  {
   "cell_type": "markdown",
   "metadata": {},
   "source": [
    "<h1>JAWABAN</h1>"
   ]
  },
  {
   "cell_type": "code",
   "execution_count": 16,
   "metadata": {},
   "outputs": [
    {
     "name": "stdout",
     "output_type": "stream",
     "text": [
      "Company 1: Retail (United States)\n",
      "Company 2: Technology (United Kingdom)\n",
      "Company 3: Healthcare (United States)\n"
     ]
    }
   ],
   "source": [
    "for company in company_detail_list:\n",
    "    print(f\"{company['name']}: {company['domain']} ({company['country']})\")"
   ]
  },
  {
   "cell_type": "markdown",
   "metadata": {
    "id": "d617U0r8wvOd"
   },
   "source": [
    "## Task 3\n",
    "\n",
    "List all Employees work By company domain.\n",
    "\n",
    "Expected return:\n",
    "\n",
    "```json\n",
    "{\n",
    "    \"Retail\": [\n",
    "         \"John Doe\",\n",
    "         \"Robert White\",\n",
    "         \"Ying Han Tan\"\n",
    "     ],\n",
    "    \"Technology\":[\n",
    "          \"Tom Smith\",\n",
    "          \"Rubby Lee\",\n",
    "     ],\n",
    "    \"Healthcare\": [\n",
    "         \"Kenneth Ng\",\n",
    "         \"Andrew Sebastian\"\n",
    "     ],\n",
    "}\n",
    "```\n",
    "\n"
   ]
  },
  {
   "cell_type": "markdown",
   "metadata": {},
   "source": [
    "<h1>JAWABAN</h1>"
   ]
  },
  {
   "cell_type": "code",
   "execution_count": 17,
   "metadata": {},
   "outputs": [
    {
     "data": {
      "text/plain": [
       "{'Retail': ['John Doe', 'Ying Han Tan', 'Robert White'],\n",
       " 'Technology': ['Tom Smith', 'Rubby Lee'],\n",
       " 'Healthcare': ['Andrew Sebastian', 'Kenneth Ng']}"
      ]
     },
     "execution_count": 17,
     "metadata": {},
     "output_type": "execute_result"
    }
   ],
   "source": [
    "domain_to_employees = {}  \n",
    "\n",
    "for company in company_detail_list:\n",
    "    domain = company['domain']\n",
    "    domain_to_employees[domain] = []  \n",
    "\n",
    "for employee in employee_detail_list:\n",
    "    company_name = employee['company']\n",
    "    full_name = employee['full_name']\n",
    "    \n",
    "    for company in company_detail_list:\n",
    "        if company['name'] == company_name:\n",
    "            domain = company['domain']\n",
    "            domain_to_employees[domain].append(full_name)\n",
    "\n",
    "domain_to_employees"
   ]
  },
  {
   "cell_type": "markdown",
   "metadata": {
    "id": "-a7IODNT3w0F"
   },
   "source": [
    "## Task 4\n",
    "\n",
    "Create a function that return employees with it's company country.\n",
    "\n",
    "Expected return:\n",
    "\n",
    "\n",
    "```json\n",
    "[{\n",
    "    \"full_name\": \"John Doe\",\n",
    "    \"company\": \"Company 1\",\n",
    "    \"country\": \"United States\"\n",
    "}, {\n",
    "    \"full_name\": \"Tom Smith\",\n",
    "    \"company\": \"Company 2\",\n",
    "    \"country\": \"United Kingdom\"\n",
    "}, {\n",
    "    \"full_name\": \"Andrew Sebastian\",\n",
    "    \"company\": \"Company 3\",\n",
    "    \"country\": \"United Kingdom\"\n",
    "},  {\n",
    "    \"full_name\": \"Ying Han Tan\",\n",
    "    \"company\": \"Company 1\",\n",
    "    \"country\": \"United States\"\n",
    "},  {\n",
    "    \"full_name\": \"Kenneth Ng\",\n",
    "    \"company\": \"Company 3\",\n",
    "    \"country\": \"United States\"\n",
    "},  {\n",
    "    \"full_name\": \"Rubby Lee\",\n",
    "    \"company\": \"Company 2\",\n",
    "    \"country\": \"United Kingdom\"\n",
    "},   {\n",
    "    \"full_name\": \"Robert White\",\n",
    "    \"company\": \"Company 1\",\n",
    "    \"country\": \"United States\"\n",
    "},\n",
    "    \n",
    "]\n",
    "```\n",
    "\n"
   ]
  },
  {
   "cell_type": "markdown",
   "metadata": {},
   "source": [
    "<h1>JAWABAN</h1>"
   ]
  },
  {
   "cell_type": "code",
   "execution_count": 18,
   "metadata": {},
   "outputs": [
    {
     "data": {
      "text/plain": [
       "[{'full_name': 'John Doe', 'company': 'Company 1', 'country': 'United States'},\n",
       " {'full_name': 'Tom Smith',\n",
       "  'company': 'Company 2',\n",
       "  'country': 'United Kingdom'},\n",
       " {'full_name': 'Andrew Sebastian',\n",
       "  'company': 'Company 3',\n",
       "  'country': 'United States'},\n",
       " {'full_name': 'Ying Han Tan',\n",
       "  'company': 'Company 1',\n",
       "  'country': 'United States'},\n",
       " {'full_name': 'Kenneth Ng',\n",
       "  'company': 'Company 3',\n",
       "  'country': 'United States'},\n",
       " {'full_name': 'Rubby Lee',\n",
       "  'company': 'Company 2',\n",
       "  'country': 'United Kingdom'},\n",
       " {'full_name': 'Robert White',\n",
       "  'company': 'Company 1',\n",
       "  'country': 'United States'}]"
      ]
     },
     "execution_count": 18,
     "metadata": {},
     "output_type": "execute_result"
    }
   ],
   "source": [
    "def get_employees_with_country(employee_list, company_list):\n",
    "    result = []\n",
    "    company_country_map = {company['name']: company['country'] for company in company_list}\n",
    "    for employee in employee_list:\n",
    "        full_name = employee['full_name']\n",
    "        company = employee['company']\n",
    "        country = company_country_map.get(company)\n",
    "        result.append({\n",
    "            'full_name': full_name,\n",
    "            'company': company,\n",
    "            'country': country\n",
    "        })\n",
    "    \n",
    "    return result\n",
    "employees_with_country = get_employees_with_country(employee_detail_list, company_detail_list)\n",
    "employees_with_country"
   ]
  },
  {
   "cell_type": "markdown",
   "metadata": {
    "id": "TXhXCiOrFcev"
   },
   "source": [
    "## Task 5\n",
    "\n",
    "Create a function that return companies with a number of employees nationality that are working in the company.\n",
    "\n",
    "Expected return:\n",
    "\n",
    "\n",
    "```json\n",
    "[{\n",
    "    \"company\": \"Company 1\",\n",
    "    \"employee_nationality\": {\n",
    "        \"Australia\": 2,\n",
    "        \"Hong Kong\": 1\n",
    "    }\n",
    "}, {\n",
    "    \"company\": \"Company 2\",\n",
    "    \"employee_nationality\": {\n",
    "        \"Hong Kong\": 1,\n",
    "        \"United States\": 1\n",
    "    }\n",
    "}, {\n",
    "    \"company\": \"Company 3\",\n",
    "    \"employee_nationality\": {\n",
    "        \"United States\": 2\n",
    "    }\n",
    "}]\n",
    "```\n",
    "\n"
   ]
  },
  {
   "cell_type": "markdown",
   "metadata": {},
   "source": [
    "<h1>JAWABAN</h1>"
   ]
  },
  {
   "cell_type": "code",
   "execution_count": 19,
   "metadata": {},
   "outputs": [
    {
     "data": {
      "text/plain": [
       "[{'company': 'Company 1',\n",
       "  'employee_nationality': {'Australia': 2, 'United Kingdom': 1}},\n",
       " {'company': 'Company 2',\n",
       "  'employee_nationality': {'United States': 1, 'Hong Kong': 1}},\n",
       " {'company': 'Company 3', 'employee_nationality': {'United States': 2}}]"
      ]
     },
     "execution_count": 19,
     "metadata": {},
     "output_type": "execute_result"
    }
   ],
   "source": [
    "def get_companies_with_employee_nationality(employee_list, company_list):\n",
    "    result = []\n",
    "    for company in company_list:\n",
    "        company_name = company['name']\n",
    "        employee_nationality_count = {}\n",
    "        for employee in employee_list:\n",
    "            if employee['company'] == company_name:\n",
    "                nationality = employee['nationality']\n",
    "                if nationality in employee_nationality_count:\n",
    "                    employee_nationality_count[nationality] += 1\n",
    "                else:\n",
    "                    employee_nationality_count[nationality] = 1\n",
    "        if employee_nationality_count:\n",
    "            result.append({\n",
    "                \"company\": company_name,\n",
    "                \"employee_nationality\": employee_nationality_count\n",
    "            })\n",
    "\n",
    "    return result\n",
    "companies_with_nationality = get_companies_with_employee_nationality(employee_detail_list, company_detail_list)\n",
    "companies_with_nationality"
   ]
  },
  {
   "cell_type": "code",
   "execution_count": null,
   "metadata": {},
   "outputs": [],
   "source": []
  }
 ],
 "metadata": {
  "colab": {
   "collapsed_sections": [],
   "name": "AT Backend Test.ipynb",
   "provenance": [
    {
     "file_id": "1vK5VvfGC3SQ_onwiFXNdtvWQRvHAbeZa",
     "timestamp": 1650627195682
    },
    {
     "file_id": "1hHOgmPPwUDtWvGuaz2tuclaa6MJYUmIm",
     "timestamp": 1650504460415
    },
    {
     "file_id": "1HSO3CG0-7R5jptBBEx-CDHIDRjXgXmrl",
     "timestamp": 1650255042674
    }
   ]
  },
  "kernelspec": {
   "display_name": "Python 3 (ipykernel)",
   "language": "python",
   "name": "python3"
  },
  "language_info": {
   "codemirror_mode": {
    "name": "ipython",
    "version": 3
   },
   "file_extension": ".py",
   "mimetype": "text/x-python",
   "name": "python",
   "nbconvert_exporter": "python",
   "pygments_lexer": "ipython3",
   "version": "3.13.0"
  }
 },
 "nbformat": 4,
 "nbformat_minor": 4
}
